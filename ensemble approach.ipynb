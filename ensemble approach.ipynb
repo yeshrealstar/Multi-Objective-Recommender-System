{
 "cells": [
  {
   "cell_type": "markdown",
   "id": "ad1aee49",
   "metadata": {
    "papermill": {
     "duration": 0.004176,
     "end_time": "2023-01-16T12:09:25.905557",
     "exception": false,
     "start_time": "2023-01-16T12:09:25.901381",
     "status": "completed"
    },
    "tags": []
   },
   "source": [
    "# [OTTO – Multi-Objective Recommender System](https://www.kaggle.com/competitions/otto-recommender-system)"
   ]
  },
  {
   "cell_type": "markdown",
   "id": "e199f4bd",
   "metadata": {
    "papermill": {
     "duration": 0.002707,
     "end_time": "2023-01-16T12:09:25.911630",
     "exception": false,
     "start_time": "2023-01-16T12:09:25.908923",
     "status": "completed"
    },
    "tags": []
   },
   "source": [
    "## Many thanks to:\n",
    "- [0.578 | Ensemble of Public Notebooks](https://www.kaggle.com/code/karakasatarik/0-578-ensemble-of-public-notebooks)\n",
    "- [💡 [2 methods] How-to ensemble predictions 🏅🏅🏅](https://www.kaggle.com/code/radek1/2-methods-how-to-ensemble-predictions)\n",
    "- [Candidate ReRank Model - [LB 0.575]](https://www.kaggle.com/code/cdeotte/candidate-rerank-model-lb-0-575)\n",
    "- [otto-pipeline2 [LB 0.576]](https://www.kaggle.com/code/tuongkhang/otto-pipeline2-lb-0-576)\n",
    "- [OTTO: Tuning Candidate ReRank Model[LB 0.577]](https://www.kaggle.com/code/utm529fg/otto-tuning-candidate-rerank-model-lb-0-577)"
   ]
  },
  {
   "cell_type": "markdown",
   "id": "721c38d5",
   "metadata": {
    "papermill": {
     "duration": 0.002656,
     "end_time": "2023-01-16T12:09:25.917303",
     "exception": false,
     "start_time": "2023-01-16T12:09:25.914647",
     "status": "completed"
    },
    "tags": []
   },
   "source": [
    "# Loading the data"
   ]
  },
  {
   "cell_type": "code",
   "execution_count": 1,
   "id": "316e9d9b",
   "metadata": {
    "execution": {
     "iopub.execute_input": "2023-01-16T12:09:25.925962Z",
     "iopub.status.busy": "2023-01-16T12:09:25.925333Z",
     "iopub.status.idle": "2023-01-16T12:09:40.273941Z",
     "shell.execute_reply": "2023-01-16T12:09:40.272969Z"
    },
    "papermill": {
     "duration": 14.356606,
     "end_time": "2023-01-16T12:09:40.277094",
     "exception": false,
     "start_time": "2023-01-16T12:09:25.920488",
     "status": "completed"
    },
    "tags": []
   },
   "outputs": [
    {
     "name": "stdout",
     "output_type": "stream",
     "text": [
      "Collecting polars\r\n",
      "  Downloading polars-0.15.15-cp37-abi3-manylinux_2_17_x86_64.manylinux2014_x86_64.whl (15.0 MB)\r\n",
      "\u001b[2K     \u001b[90m━━━━━━━━━━━━━━━━━━━━━━━━━━━━━━━━━━━━━━━━\u001b[0m \u001b[32m15.0/15.0 MB\u001b[0m \u001b[31m24.0 MB/s\u001b[0m eta \u001b[36m0:00:00\u001b[0m\r\n",
      "\u001b[?25hRequirement already satisfied: typing_extensions>=4.0.0 in /opt/conda/lib/python3.7/site-packages (from polars) (4.4.0)\r\n",
      "Installing collected packages: polars\r\n",
      "Successfully installed polars-0.15.15\r\n",
      "\u001b[33mWARNING: Running pip as the 'root' user can result in broken permissions and conflicting behaviour with the system package manager. It is recommended to use a virtual environment instead: https://pip.pypa.io/warnings/venv\u001b[0m\u001b[33m\r\n",
      "\u001b[0m"
     ]
    }
   ],
   "source": [
    "!pip install polars"
   ]
  },
  {
   "cell_type": "code",
   "execution_count": 2,
   "id": "3efa68b7",
   "metadata": {
    "execution": {
     "iopub.execute_input": "2023-01-16T12:09:40.288882Z",
     "iopub.status.busy": "2023-01-16T12:09:40.287905Z",
     "iopub.status.idle": "2023-01-16T12:09:40.339581Z",
     "shell.execute_reply": "2023-01-16T12:09:40.338090Z"
    },
    "papermill": {
     "duration": 0.06038,
     "end_time": "2023-01-16T12:09:40.342359",
     "exception": false,
     "start_time": "2023-01-16T12:09:40.281979",
     "status": "completed"
    },
    "tags": []
   },
   "outputs": [],
   "source": [
    "import polars as pl\n",
    "paths = ['/kaggle/input/0-578-ensemble-of-public-notebooks/submission.csv',  # 0.578\n",
    "         #'/kaggle/input/candidate-rerank-model-lb-0-575/submission.csv', # 0.575\n",
    "         '/kaggle/input/otto-pipeline2-lb-0-576/submission.csv', # 0.576\n",
    "         '/kaggle/input/otto-tuning-candidate-rerank-model-lb-0-577/submission.csv' # 0.577\n",
    "        ]"
   ]
  },
  {
   "cell_type": "code",
   "execution_count": 3,
   "id": "167feaa2",
   "metadata": {
    "execution": {
     "iopub.execute_input": "2023-01-16T12:09:40.355457Z",
     "iopub.status.busy": "2023-01-16T12:09:40.354081Z",
     "iopub.status.idle": "2023-01-16T12:09:40.363139Z",
     "shell.execute_reply": "2023-01-16T12:09:40.361391Z"
    },
    "papermill": {
     "duration": 0.017886,
     "end_time": "2023-01-16T12:09:40.365858",
     "exception": false,
     "start_time": "2023-01-16T12:09:40.347972",
     "status": "completed"
    },
    "tags": []
   },
   "outputs": [],
   "source": [
    "def read_sub(path, weight=1): # by default let us assing the weight of 1 to predictions from each submission, this will be akin to a standard vote ensemble\n",
    "    '''a helper function for loading and preprocessing submissions'''\n",
    "    return (\n",
    "        pl.read_csv(path)\n",
    "            .with_column(pl.col('labels').str.split(by=' '))\n",
    "            .with_column(pl.lit(weight).alias('vote'))\n",
    "            .explode('labels')\n",
    "            .rename({'labels': 'aid'})\n",
    "            .with_column(pl.col('aid').cast(pl.UInt32)) # we are casting the `aids` to `Int32`! memory management is super important to ensure we don't run out of resources\n",
    "            .with_column(pl.col('vote').cast(pl.UInt8))\n",
    "    )"
   ]
  },
  {
   "cell_type": "code",
   "execution_count": 4,
   "id": "743b8911",
   "metadata": {
    "execution": {
     "iopub.execute_input": "2023-01-16T12:09:40.376804Z",
     "iopub.status.busy": "2023-01-16T12:09:40.376351Z",
     "iopub.status.idle": "2023-01-16T12:10:35.477687Z",
     "shell.execute_reply": "2023-01-16T12:10:35.476505Z"
    },
    "papermill": {
     "duration": 55.113501,
     "end_time": "2023-01-16T12:10:35.484021",
     "exception": false,
     "start_time": "2023-01-16T12:09:40.370520",
     "status": "completed"
    },
    "tags": []
   },
   "outputs": [
    {
     "data": {
      "text/html": [
       "<div>\n",
       "<style scoped>\n",
       "    .dataframe tbody tr th:only-of-type {\n",
       "        vertical-align: middle;\n",
       "    }\n",
       "\n",
       "    .dataframe tbody tr th {\n",
       "        vertical-align: top;\n",
       "    }\n",
       "\n",
       "    .dataframe thead th {\n",
       "        text-align: right;\n",
       "    }\n",
       "\n",
       "    .dataframe td {\n",
       "        white-space: pre;\n",
       "    }\n",
       "\n",
       "    .dataframe td {\n",
       "        padding-top: 0;\n",
       "    }\n",
       "\n",
       "    .dataframe td {\n",
       "        padding-bottom: 0;\n",
       "    }\n",
       "\n",
       "    .dataframe td {\n",
       "        line-height: 95%;\n",
       "    }\n",
       "</style>\n",
       "<table border=\"1\" class=\"dataframe\">\n",
       "<small>shape: (5, 3)</small>\n",
       "<thead>\n",
       "<tr>\n",
       "<th>\n",
       "session_type\n",
       "</th>\n",
       "<th>\n",
       "aid\n",
       "</th>\n",
       "<th>\n",
       "vote\n",
       "</th>\n",
       "</tr>\n",
       "<tr>\n",
       "<td>\n",
       "str\n",
       "</td>\n",
       "<td>\n",
       "u32\n",
       "</td>\n",
       "<td>\n",
       "u8\n",
       "</td>\n",
       "</tr>\n",
       "</thead>\n",
       "<tbody>\n",
       "<tr>\n",
       "<td>\n",
       "&quot;14279927_carts...\n",
       "</td>\n",
       "<td>\n",
       "872695\n",
       "</td>\n",
       "<td>\n",
       "1\n",
       "</td>\n",
       "</tr>\n",
       "<tr>\n",
       "<td>\n",
       "&quot;14279927_carts...\n",
       "</td>\n",
       "<td>\n",
       "922440\n",
       "</td>\n",
       "<td>\n",
       "1\n",
       "</td>\n",
       "</tr>\n",
       "<tr>\n",
       "<td>\n",
       "&quot;14279927_carts...\n",
       "</td>\n",
       "<td>\n",
       "67054\n",
       "</td>\n",
       "<td>\n",
       "1\n",
       "</td>\n",
       "</tr>\n",
       "<tr>\n",
       "<td>\n",
       "&quot;14279927_carts...\n",
       "</td>\n",
       "<td>\n",
       "153333\n",
       "</td>\n",
       "<td>\n",
       "1\n",
       "</td>\n",
       "</tr>\n",
       "<tr>\n",
       "<td>\n",
       "&quot;14279927_carts...\n",
       "</td>\n",
       "<td>\n",
       "215472\n",
       "</td>\n",
       "<td>\n",
       "1\n",
       "</td>\n",
       "</tr>\n",
       "</tbody>\n",
       "</table>\n",
       "</div>"
      ],
      "text/plain": [
       "shape: (5, 3)\n",
       "┌────────────────┬────────┬──────┐\n",
       "│ session_type   ┆ aid    ┆ vote │\n",
       "│ ---            ┆ ---    ┆ ---  │\n",
       "│ str            ┆ u32    ┆ u8   │\n",
       "╞════════════════╪════════╪══════╡\n",
       "│ 14279927_carts ┆ 872695 ┆ 1    │\n",
       "│ 14279927_carts ┆ 922440 ┆ 1    │\n",
       "│ 14279927_carts ┆ 67054  ┆ 1    │\n",
       "│ 14279927_carts ┆ 153333 ┆ 1    │\n",
       "│ 14279927_carts ┆ 215472 ┆ 1    │\n",
       "└────────────────┴────────┴──────┘"
      ]
     },
     "execution_count": 4,
     "metadata": {},
     "output_type": "execute_result"
    }
   ],
   "source": [
    "subs = [read_sub(path) for path in paths]\n",
    "subs[0].head()"
   ]
  },
  {
   "cell_type": "code",
   "execution_count": 5,
   "id": "1c19d0e5",
   "metadata": {
    "execution": {
     "iopub.execute_input": "2023-01-16T12:10:35.494886Z",
     "iopub.status.busy": "2023-01-16T12:10:35.494529Z",
     "iopub.status.idle": "2023-01-16T12:15:13.522050Z",
     "shell.execute_reply": "2023-01-16T12:15:13.520612Z"
    },
    "papermill": {
     "duration": 278.048304,
     "end_time": "2023-01-16T12:15:13.536969",
     "exception": false,
     "start_time": "2023-01-16T12:10:35.488665",
     "status": "completed"
    },
    "tags": []
   },
   "outputs": [
    {
     "data": {
      "text/html": [
       "<div>\n",
       "<style scoped>\n",
       "    .dataframe tbody tr th:only-of-type {\n",
       "        vertical-align: middle;\n",
       "    }\n",
       "\n",
       "    .dataframe tbody tr th {\n",
       "        vertical-align: top;\n",
       "    }\n",
       "\n",
       "    .dataframe thead th {\n",
       "        text-align: right;\n",
       "    }\n",
       "\n",
       "    .dataframe td {\n",
       "        white-space: pre;\n",
       "    }\n",
       "\n",
       "    .dataframe td {\n",
       "        padding-top: 0;\n",
       "    }\n",
       "\n",
       "    .dataframe td {\n",
       "        padding-bottom: 0;\n",
       "    }\n",
       "\n",
       "    .dataframe td {\n",
       "        line-height: 95%;\n",
       "    }\n",
       "</style>\n",
       "<table border=\"1\" class=\"dataframe\">\n",
       "<small>shape: (5, 5)</small>\n",
       "<thead>\n",
       "<tr>\n",
       "<th>\n",
       "session_type\n",
       "</th>\n",
       "<th>\n",
       "aid\n",
       "</th>\n",
       "<th>\n",
       "vote\n",
       "</th>\n",
       "<th>\n",
       "vote_right\n",
       "</th>\n",
       "<th>\n",
       "vote_right2\n",
       "</th>\n",
       "</tr>\n",
       "<tr>\n",
       "<td>\n",
       "str\n",
       "</td>\n",
       "<td>\n",
       "u32\n",
       "</td>\n",
       "<td>\n",
       "u8\n",
       "</td>\n",
       "<td>\n",
       "u8\n",
       "</td>\n",
       "<td>\n",
       "u8\n",
       "</td>\n",
       "</tr>\n",
       "</thead>\n",
       "<tbody>\n",
       "<tr>\n",
       "<td>\n",
       "&quot;12899779_click...\n",
       "</td>\n",
       "<td>\n",
       "59625\n",
       "</td>\n",
       "<td>\n",
       "1\n",
       "</td>\n",
       "<td>\n",
       "1\n",
       "</td>\n",
       "<td>\n",
       "1\n",
       "</td>\n",
       "</tr>\n",
       "<tr>\n",
       "<td>\n",
       "&quot;12899779_click...\n",
       "</td>\n",
       "<td>\n",
       "1253524\n",
       "</td>\n",
       "<td>\n",
       "1\n",
       "</td>\n",
       "<td>\n",
       "1\n",
       "</td>\n",
       "<td>\n",
       "1\n",
       "</td>\n",
       "</tr>\n",
       "<tr>\n",
       "<td>\n",
       "&quot;12899779_click...\n",
       "</td>\n",
       "<td>\n",
       "737445\n",
       "</td>\n",
       "<td>\n",
       "1\n",
       "</td>\n",
       "<td>\n",
       "1\n",
       "</td>\n",
       "<td>\n",
       "1\n",
       "</td>\n",
       "</tr>\n",
       "<tr>\n",
       "<td>\n",
       "&quot;12899779_click...\n",
       "</td>\n",
       "<td>\n",
       "438191\n",
       "</td>\n",
       "<td>\n",
       "1\n",
       "</td>\n",
       "<td>\n",
       "1\n",
       "</td>\n",
       "<td>\n",
       "1\n",
       "</td>\n",
       "</tr>\n",
       "<tr>\n",
       "<td>\n",
       "&quot;12899779_click...\n",
       "</td>\n",
       "<td>\n",
       "731692\n",
       "</td>\n",
       "<td>\n",
       "1\n",
       "</td>\n",
       "<td>\n",
       "1\n",
       "</td>\n",
       "<td>\n",
       "1\n",
       "</td>\n",
       "</tr>\n",
       "</tbody>\n",
       "</table>\n",
       "</div>"
      ],
      "text/plain": [
       "shape: (5, 5)\n",
       "┌─────────────────┬─────────┬──────┬────────────┬─────────────┐\n",
       "│ session_type    ┆ aid     ┆ vote ┆ vote_right ┆ vote_right2 │\n",
       "│ ---             ┆ ---     ┆ ---  ┆ ---        ┆ ---         │\n",
       "│ str             ┆ u32     ┆ u8   ┆ u8         ┆ u8          │\n",
       "╞═════════════════╪═════════╪══════╪════════════╪═════════════╡\n",
       "│ 12899779_clicks ┆ 59625   ┆ 1    ┆ 1          ┆ 1           │\n",
       "│ 12899779_clicks ┆ 1253524 ┆ 1    ┆ 1          ┆ 1           │\n",
       "│ 12899779_clicks ┆ 737445  ┆ 1    ┆ 1          ┆ 1           │\n",
       "│ 12899779_clicks ┆ 438191  ┆ 1    ┆ 1          ┆ 1           │\n",
       "│ 12899779_clicks ┆ 731692  ┆ 1    ┆ 1          ┆ 1           │\n",
       "└─────────────────┴─────────┴──────┴────────────┴─────────────┘"
      ]
     },
     "execution_count": 5,
     "metadata": {},
     "output_type": "execute_result"
    }
   ],
   "source": [
    "subs = subs[0].join(subs[1], how='outer', on=['session_type', 'aid']).join(subs[2], how='outer', on=['session_type', 'aid'], suffix='_right2')\n",
    "subs.head()"
   ]
  },
  {
   "cell_type": "code",
   "execution_count": 6,
   "id": "f3c39221",
   "metadata": {
    "execution": {
     "iopub.execute_input": "2023-01-16T12:15:13.550679Z",
     "iopub.status.busy": "2023-01-16T12:15:13.550169Z",
     "iopub.status.idle": "2023-01-16T12:15:26.725504Z",
     "shell.execute_reply": "2023-01-16T12:15:26.724656Z"
    },
    "papermill": {
     "duration": 13.185168,
     "end_time": "2023-01-16T12:15:26.727542",
     "exception": false,
     "start_time": "2023-01-16T12:15:13.542374",
     "status": "completed"
    },
    "tags": []
   },
   "outputs": [
    {
     "data": {
      "text/html": [
       "<div>\n",
       "<style scoped>\n",
       "    .dataframe tbody tr th:only-of-type {\n",
       "        vertical-align: middle;\n",
       "    }\n",
       "\n",
       "    .dataframe tbody tr th {\n",
       "        vertical-align: top;\n",
       "    }\n",
       "\n",
       "    .dataframe thead th {\n",
       "        text-align: right;\n",
       "    }\n",
       "\n",
       "    .dataframe td {\n",
       "        white-space: pre;\n",
       "    }\n",
       "\n",
       "    .dataframe td {\n",
       "        padding-top: 0;\n",
       "    }\n",
       "\n",
       "    .dataframe td {\n",
       "        padding-bottom: 0;\n",
       "    }\n",
       "\n",
       "    .dataframe td {\n",
       "        line-height: 95%;\n",
       "    }\n",
       "</style>\n",
       "<table border=\"1\" class=\"dataframe\">\n",
       "<small>shape: (5, 3)</small>\n",
       "<thead>\n",
       "<tr>\n",
       "<th>\n",
       "session_type\n",
       "</th>\n",
       "<th>\n",
       "aid\n",
       "</th>\n",
       "<th>\n",
       "vote_sum\n",
       "</th>\n",
       "</tr>\n",
       "<tr>\n",
       "<td>\n",
       "str\n",
       "</td>\n",
       "<td>\n",
       "u32\n",
       "</td>\n",
       "<td>\n",
       "u8\n",
       "</td>\n",
       "</tr>\n",
       "</thead>\n",
       "<tbody>\n",
       "<tr>\n",
       "<td>\n",
       "&quot;14571581_carts...\n",
       "</td>\n",
       "<td>\n",
       "1764910\n",
       "</td>\n",
       "<td>\n",
       "3\n",
       "</td>\n",
       "</tr>\n",
       "<tr>\n",
       "<td>\n",
       "&quot;14571581_carts...\n",
       "</td>\n",
       "<td>\n",
       "978060\n",
       "</td>\n",
       "<td>\n",
       "3\n",
       "</td>\n",
       "</tr>\n",
       "<tr>\n",
       "<td>\n",
       "&quot;14571581_carts...\n",
       "</td>\n",
       "<td>\n",
       "1497245\n",
       "</td>\n",
       "<td>\n",
       "3\n",
       "</td>\n",
       "</tr>\n",
       "<tr>\n",
       "<td>\n",
       "&quot;14571581_carts...\n",
       "</td>\n",
       "<td>\n",
       "984794\n",
       "</td>\n",
       "<td>\n",
       "3\n",
       "</td>\n",
       "</tr>\n",
       "<tr>\n",
       "<td>\n",
       "&quot;14571581_carts...\n",
       "</td>\n",
       "<td>\n",
       "1072049\n",
       "</td>\n",
       "<td>\n",
       "3\n",
       "</td>\n",
       "</tr>\n",
       "</tbody>\n",
       "</table>\n",
       "</div>"
      ],
      "text/plain": [
       "shape: (5, 3)\n",
       "┌────────────────┬─────────┬──────────┐\n",
       "│ session_type   ┆ aid     ┆ vote_sum │\n",
       "│ ---            ┆ ---     ┆ ---      │\n",
       "│ str            ┆ u32     ┆ u8       │\n",
       "╞════════════════╪═════════╪══════════╡\n",
       "│ 14571581_carts ┆ 1764910 ┆ 3        │\n",
       "│ 14571581_carts ┆ 978060  ┆ 3        │\n",
       "│ 14571581_carts ┆ 1497245 ┆ 3        │\n",
       "│ 14571581_carts ┆ 984794  ┆ 3        │\n",
       "│ 14571581_carts ┆ 1072049 ┆ 3        │\n",
       "└────────────────┴─────────┴──────────┘"
      ]
     },
     "execution_count": 6,
     "metadata": {},
     "output_type": "execute_result"
    }
   ],
   "source": [
    "subs = (subs\n",
    "    .fill_null(0)\n",
    "    .with_column((pl.col('vote') + pl.col('vote_right') + pl.col('vote_right2')).alias('vote_sum'))\n",
    "    .drop(['vote', 'vote_right', 'vote_right2'])\n",
    "    .sort(by='vote_sum')\n",
    "    .reverse()\n",
    ")\n",
    "\n",
    "subs.head()"
   ]
  },
  {
   "cell_type": "code",
   "execution_count": 7,
   "id": "03f88a37",
   "metadata": {
    "execution": {
     "iopub.execute_input": "2023-01-16T12:15:26.742961Z",
     "iopub.status.busy": "2023-01-16T12:15:26.742384Z",
     "iopub.status.idle": "2023-01-16T12:20:11.013874Z",
     "shell.execute_reply": "2023-01-16T12:20:11.012257Z"
    },
    "papermill": {
     "duration": 284.289137,
     "end_time": "2023-01-16T12:20:11.021801",
     "exception": false,
     "start_time": "2023-01-16T12:15:26.732664",
     "status": "completed"
    },
    "tags": []
   },
   "outputs": [
    {
     "name": "stdout",
     "output_type": "stream",
     "text": [
      "CPU times: user 5min, sys: 8.03 s, total: 5min 8s\n",
      "Wall time: 4min 44s\n"
     ]
    }
   ],
   "source": [
    "%%time\n",
    "preds = subs.groupby('session_type').agg([\n",
    "    pl.col('aid').head(20).alias('labels')\n",
    "])\n",
    "\n",
    "preds = preds.with_column(pl.col('labels').apply(lambda lst: ' '.join([str(aid) for aid in lst])))"
   ]
  },
  {
   "cell_type": "code",
   "execution_count": 8,
   "id": "39a73385",
   "metadata": {
    "execution": {
     "iopub.execute_input": "2023-01-16T12:20:11.035402Z",
     "iopub.status.busy": "2023-01-16T12:20:11.034950Z",
     "iopub.status.idle": "2023-01-16T12:20:12.498596Z",
     "shell.execute_reply": "2023-01-16T12:20:12.497279Z"
    },
    "papermill": {
     "duration": 1.473421,
     "end_time": "2023-01-16T12:20:12.501321",
     "exception": false,
     "start_time": "2023-01-16T12:20:11.027900",
     "status": "completed"
    },
    "tags": []
   },
   "outputs": [],
   "source": [
    "preds.write_csv('submission.csv')"
   ]
  }
 ],
 "metadata": {
  "kernelspec": {
   "display_name": "Python 3",
   "language": "python",
   "name": "python3"
  },
  "language_info": {
   "codemirror_mode": {
    "name": "ipython",
    "version": 3
   },
   "file_extension": ".py",
   "mimetype": "text/x-python",
   "name": "python",
   "nbconvert_exporter": "python",
   "pygments_lexer": "ipython3",
   "version": "3.7.12"
  },
  "papermill": {
   "default_parameters": {},
   "duration": 657.090561,
   "end_time": "2023-01-16T12:20:14.339492",
   "environment_variables": {},
   "exception": null,
   "input_path": "__notebook__.ipynb",
   "output_path": "__notebook__.ipynb",
   "parameters": {},
   "start_time": "2023-01-16T12:09:17.248931",
   "version": "2.3.4"
  }
 },
 "nbformat": 4,
 "nbformat_minor": 5
}
