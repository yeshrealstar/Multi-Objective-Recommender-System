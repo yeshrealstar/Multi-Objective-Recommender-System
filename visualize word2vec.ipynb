{
 "cells": [
  {
   "cell_type": "markdown",
   "id": "8804557b",
   "metadata": {
    "papermill": {
     "duration": 0.004878,
     "end_time": "2023-01-16T03:19:19.267155",
     "exception": false,
     "start_time": "2023-01-16T03:19:19.262277",
     "status": "completed"
    },
    "tags": []
   },
   "source": [
    "\n",
    "### what - the goal\n",
    "of this notebook is to do live plot word2vec loss.\n",
    "\n",
    "### why \n",
    "to debug the model.\n",
    "\n",
    "### how \n",
    "use word2vec callback function.\n"
   ]
  },
  {
   "cell_type": "markdown",
   "id": "abf431d6",
   "metadata": {
    "papermill": {
     "duration": 0.003381,
     "end_time": "2023-01-16T03:19:19.274594",
     "exception": false,
     "start_time": "2023-01-16T03:19:19.271213",
     "status": "completed"
    },
    "tags": []
   },
   "source": [
    "# import libs needed"
   ]
  },
  {
   "cell_type": "code",
   "execution_count": 1,
   "id": "a4818462",
   "metadata": {
    "execution": {
     "iopub.execute_input": "2023-01-16T03:19:19.284444Z",
     "iopub.status.busy": "2023-01-16T03:19:19.283133Z",
     "iopub.status.idle": "2023-01-16T03:19:32.761784Z",
     "shell.execute_reply": "2023-01-16T03:19:32.760684Z"
    },
    "papermill": {
     "duration": 13.486603,
     "end_time": "2023-01-16T03:19:32.764835",
     "exception": false,
     "start_time": "2023-01-16T03:19:19.278232",
     "status": "completed"
    },
    "tags": []
   },
   "outputs": [
    {
     "name": "stdout",
     "output_type": "stream",
     "text": [
      "Collecting livelossplot\r\n",
      "  Downloading livelossplot-0.5.5-py3-none-any.whl (22 kB)\r\n",
      "Requirement already satisfied: bokeh in /opt/conda/lib/python3.7/site-packages (from livelossplot) (2.4.3)\r\n",
      "Requirement already satisfied: ipython==7.* in /opt/conda/lib/python3.7/site-packages (from livelossplot) (7.33.0)\r\n",
      "Requirement already satisfied: numpy<1.22 in /opt/conda/lib/python3.7/site-packages (from livelossplot) (1.21.6)\r\n",
      "Requirement already satisfied: matplotlib in /opt/conda/lib/python3.7/site-packages (from livelossplot) (3.5.3)\r\n",
      "Requirement already satisfied: matplotlib-inline in /opt/conda/lib/python3.7/site-packages (from ipython==7.*->livelossplot) (0.1.3)\r\n",
      "Requirement already satisfied: backcall in /opt/conda/lib/python3.7/site-packages (from ipython==7.*->livelossplot) (0.2.0)\r\n",
      "Requirement already satisfied: pexpect>4.3 in /opt/conda/lib/python3.7/site-packages (from ipython==7.*->livelossplot) (4.8.0)\r\n",
      "Requirement already satisfied: decorator in /opt/conda/lib/python3.7/site-packages (from ipython==7.*->livelossplot) (5.1.1)\r\n",
      "Requirement already satisfied: pygments in /opt/conda/lib/python3.7/site-packages (from ipython==7.*->livelossplot) (2.12.0)\r\n",
      "Requirement already satisfied: prompt-toolkit!=3.0.0,!=3.0.1,<3.1.0,>=2.0.0 in /opt/conda/lib/python3.7/site-packages (from ipython==7.*->livelossplot) (3.0.30)\r\n",
      "Requirement already satisfied: pickleshare in /opt/conda/lib/python3.7/site-packages (from ipython==7.*->livelossplot) (0.7.5)\r\n",
      "Requirement already satisfied: jedi>=0.16 in /opt/conda/lib/python3.7/site-packages (from ipython==7.*->livelossplot) (0.18.1)\r\n",
      "Requirement already satisfied: traitlets>=4.2 in /opt/conda/lib/python3.7/site-packages (from ipython==7.*->livelossplot) (5.3.0)\r\n",
      "Requirement already satisfied: setuptools>=18.5 in /opt/conda/lib/python3.7/site-packages (from ipython==7.*->livelossplot) (59.8.0)\r\n",
      "Requirement already satisfied: tornado>=5.1 in /opt/conda/lib/python3.7/site-packages (from bokeh->livelossplot) (6.1)\r\n",
      "Requirement already satisfied: pillow>=7.1.0 in /opt/conda/lib/python3.7/site-packages (from bokeh->livelossplot) (9.1.1)\r\n",
      "Requirement already satisfied: typing-extensions>=3.10.0 in /opt/conda/lib/python3.7/site-packages (from bokeh->livelossplot) (4.1.1)\r\n",
      "Requirement already satisfied: Jinja2>=2.9 in /opt/conda/lib/python3.7/site-packages (from bokeh->livelossplot) (3.1.2)\r\n",
      "Requirement already satisfied: packaging>=16.8 in /opt/conda/lib/python3.7/site-packages (from bokeh->livelossplot) (22.0)\r\n",
      "Requirement already satisfied: PyYAML>=3.10 in /opt/conda/lib/python3.7/site-packages (from bokeh->livelossplot) (6.0)\r\n",
      "Requirement already satisfied: pyparsing>=2.2.1 in /opt/conda/lib/python3.7/site-packages (from matplotlib->livelossplot) (3.0.9)\r\n",
      "Requirement already satisfied: python-dateutil>=2.7 in /opt/conda/lib/python3.7/site-packages (from matplotlib->livelossplot) (2.8.2)\r\n",
      "Requirement already satisfied: kiwisolver>=1.0.1 in /opt/conda/lib/python3.7/site-packages (from matplotlib->livelossplot) (1.4.3)\r\n",
      "Requirement already satisfied: cycler>=0.10 in /opt/conda/lib/python3.7/site-packages (from matplotlib->livelossplot) (0.11.0)\r\n",
      "Requirement already satisfied: fonttools>=4.22.0 in /opt/conda/lib/python3.7/site-packages (from matplotlib->livelossplot) (4.33.3)\r\n",
      "Requirement already satisfied: parso<0.9.0,>=0.8.0 in /opt/conda/lib/python3.7/site-packages (from jedi>=0.16->ipython==7.*->livelossplot) (0.8.3)\r\n",
      "Requirement already satisfied: MarkupSafe>=2.0 in /opt/conda/lib/python3.7/site-packages (from Jinja2>=2.9->bokeh->livelossplot) (2.1.1)\r\n",
      "Requirement already satisfied: ptyprocess>=0.5 in /opt/conda/lib/python3.7/site-packages (from pexpect>4.3->ipython==7.*->livelossplot) (0.7.0)\r\n",
      "Requirement already satisfied: wcwidth in /opt/conda/lib/python3.7/site-packages (from prompt-toolkit!=3.0.0,!=3.0.1,<3.1.0,>=2.0.0->ipython==7.*->livelossplot) (0.2.5)\r\n",
      "Requirement already satisfied: six>=1.5 in /opt/conda/lib/python3.7/site-packages (from python-dateutil>=2.7->matplotlib->livelossplot) (1.15.0)\r\n",
      "Installing collected packages: livelossplot\r\n",
      "Successfully installed livelossplot-0.5.5\r\n",
      "\u001b[33mWARNING: Running pip as the 'root' user can result in broken permissions and conflicting behaviour with the system package manager. It is recommended to use a virtual environment instead: https://pip.pypa.io/warnings/venv\u001b[0m\u001b[33m\r\n",
      "\u001b[0m"
     ]
    }
   ],
   "source": [
    "# live plot\n",
    "!pip install livelossplot \n",
    "from livelossplot import PlotLosses\n",
    "\n",
    "plotlosses = PlotLosses()"
   ]
  },
  {
   "cell_type": "markdown",
   "id": "915aa57f",
   "metadata": {
    "papermill": {
     "duration": 0.004052,
     "end_time": "2023-01-16T03:19:32.773688",
     "exception": false,
     "start_time": "2023-01-16T03:19:32.769636",
     "status": "completed"
    },
    "tags": []
   },
   "source": [
    "# define the callback"
   ]
  },
  {
   "cell_type": "code",
   "execution_count": 2,
   "id": "3e05e012",
   "metadata": {
    "execution": {
     "iopub.execute_input": "2023-01-16T03:19:32.784154Z",
     "iopub.status.busy": "2023-01-16T03:19:32.783738Z",
     "iopub.status.idle": "2023-01-16T03:19:34.042501Z",
     "shell.execute_reply": "2023-01-16T03:19:34.041600Z"
    },
    "papermill": {
     "duration": 1.267269,
     "end_time": "2023-01-16T03:19:34.045124",
     "exception": false,
     "start_time": "2023-01-16T03:19:32.777855",
     "status": "completed"
    },
    "tags": []
   },
   "outputs": [],
   "source": [
    "from gensim.models.callbacks import CallbackAny2Vec\n",
    "import os\n",
    "import math\n",
    "import sys\n",
    "from datetime import datetime\n",
    "import psutil  \n",
    "import numpy as np\n",
    "\n",
    "def sys_stats():\n",
    "    pid = os.getpid()\n",
    "    ps = psutil.Process(pid)\n",
    "    memory_usage = ps.memory_info()[0] / 2. ** 30\n",
    "    return 'memory usage GB:' + str(np.round(memory_usage, 2))\n",
    "\n",
    "class w2vcallback(CallbackAny2Vec):\n",
    "    '''Callback to print loss after each epoch.'''\n",
    "  \n",
    "    def __init__(self):\n",
    "        self.epoch = 0\n",
    "        self.loss_last = 0\n",
    "\n",
    "    def on_epoch_end(self, model):\n",
    "        loss = model.get_latest_training_loss()\n",
    "        # define your own calculation of the loss\n",
    "        loss_now = loss - self.loss_last\n",
    "        self.loss_last = loss\n",
    "        self.epoch += 1\n",
    "        print(f'Loss after epoch {self.epoch}: {loss_now}')   \n",
    "        plotlosses.update({    \n",
    "           'loss': loss_now, ### / (epoch + 2.),\n",
    "        })\n",
    "        plotlosses.send()\n"
   ]
  },
  {
   "cell_type": "code",
   "execution_count": 3,
   "id": "659280f2",
   "metadata": {
    "execution": {
     "iopub.execute_input": "2023-01-16T03:19:34.056258Z",
     "iopub.status.busy": "2023-01-16T03:19:34.055603Z",
     "iopub.status.idle": "2023-01-16T03:20:00.866206Z",
     "shell.execute_reply": "2023-01-16T03:20:00.865129Z"
    },
    "papermill": {
     "duration": 26.81899,
     "end_time": "2023-01-16T03:20:00.868680",
     "exception": false,
     "start_time": "2023-01-16T03:19:34.049690",
     "status": "completed"
    },
    "tags": []
   },
   "outputs": [
    {
     "name": "stdout",
     "output_type": "stream",
     "text": [
      "Collecting polars\r\n",
      "  Downloading polars-0.15.15-cp37-abi3-manylinux_2_17_x86_64.manylinux2014_x86_64.whl (15.0 MB)\r\n",
      "\u001b[2K     \u001b[90m━━━━━━━━━━━━━━━━━━━━━━━━━━━━━━━━━━━━━━━━\u001b[0m \u001b[32m15.0/15.0 MB\u001b[0m \u001b[31m35.2 MB/s\u001b[0m eta \u001b[36m0:00:00\u001b[0m\r\n",
      "\u001b[?25hRequirement already satisfied: typing_extensions>=4.0.0 in /opt/conda/lib/python3.7/site-packages (from polars) (4.1.1)\r\n",
      "Installing collected packages: polars\r\n",
      "Successfully installed polars-0.15.15\r\n",
      "\u001b[33mWARNING: Running pip as the 'root' user can result in broken permissions and conflicting behaviour with the system package manager. It is recommended to use a virtual environment instead: https://pip.pypa.io/warnings/venv\u001b[0m\u001b[33m\r\n",
      "\u001b[0m"
     ]
    }
   ],
   "source": [
    "!pip install polars\n",
    "import gc\n",
    "import polars as pl\n",
    "from gensim.test.utils import common_texts\n",
    "from gensim.models import Word2Vec\n",
    "\n",
    "train = pl.read_parquet('../input/otto-full-optimized-memory-footprint/train.parquet')\n",
    "test = pl.read_parquet('../input/otto-full-optimized-memory-footprint/test.parquet')"
   ]
  },
  {
   "cell_type": "code",
   "execution_count": 4,
   "id": "edefe2c7",
   "metadata": {
    "execution": {
     "iopub.execute_input": "2023-01-16T03:20:00.882547Z",
     "iopub.status.busy": "2023-01-16T03:20:00.881602Z",
     "iopub.status.idle": "2023-01-16T03:20:56.645257Z",
     "shell.execute_reply": "2023-01-16T03:20:56.643926Z"
    },
    "papermill": {
     "duration": 55.780468,
     "end_time": "2023-01-16T03:20:56.655041",
     "exception": false,
     "start_time": "2023-01-16T03:20:00.874573",
     "status": "completed"
    },
    "tags": []
   },
   "outputs": [
    {
     "data": {
      "text/plain": [
       "0"
      ]
     },
     "execution_count": 4,
     "metadata": {},
     "output_type": "execute_result"
    }
   ],
   "source": [
    "sentences_df =  pl.concat([train, test]).groupby('session').agg(\n",
    "    pl.col('aid').alias('sentence')\n",
    ")\n",
    "\n",
    "sentences = sentences_df['sentence'].to_list()\n",
    "del sentences_df; gc.collect() "
   ]
  },
  {
   "cell_type": "markdown",
   "id": "e1c833df",
   "metadata": {
    "papermill": {
     "duration": 0.005461,
     "end_time": "2023-01-16T03:20:56.666244",
     "exception": false,
     "start_time": "2023-01-16T03:20:56.660783",
     "status": "completed"
    },
    "tags": []
   },
   "source": [
    "# chain the callback to word2vec"
   ]
  },
  {
   "cell_type": "code",
   "execution_count": 5,
   "id": "d70c223c",
   "metadata": {
    "execution": {
     "iopub.execute_input": "2023-01-16T03:20:56.679812Z",
     "iopub.status.busy": "2023-01-16T03:20:56.679409Z",
     "iopub.status.idle": "2023-01-16T04:57:22.381861Z",
     "shell.execute_reply": "2023-01-16T04:57:22.380927Z"
    },
    "papermill": {
     "duration": 5785.713574,
     "end_time": "2023-01-16T04:57:22.385571",
     "exception": false,
     "start_time": "2023-01-16T03:20:56.671997",
     "status": "completed"
    },
    "tags": []
   },
   "outputs": [
    {
     "data": {
      "image/png": "[encoded data removed]",
      "text/plain": [
       "<Figure size 864x576 with 2 Axes>"
      ]
     },
     "metadata": {
      "needs_background": "light"
     },
     "output_type": "display_data"
    },
    {
     "name": "stdout",
     "output_type": "stream",
     "text": [
      "Loss\n",
      "\tloss             \t (min:    0.000, max: 82896536.000, cur:    0.000)\n",
      "CPU times: user 6h 5min 50s, sys: 35.4 s, total: 6h 6min 25s\n",
      "Wall time: 1h 36min 25s\n"
     ]
    }
   ],
   "source": [
    "%%time\n",
    "\n",
    "#w2vec = Word2Vec(sentences=sentences, vector_size= 64, window = 3, negative = 8, ns_exponent = 0.2, sg = 1, min_count=1, workers=4)\n",
    "num_of_vecs = 64\n",
    "min_count_events_per_session = 1\n",
    "\n",
    "w2vec = Word2Vec(sentences, vector_size=num_of_vecs, min_count=min_count_events_per_session, workers=4, \n",
    "                 sg = 1, negative = 8, ns_exponent = 0.2,\n",
    "                 window=3, compute_loss=True, callbacks=[w2vcallback()])\n",
    "    "
   ]
  },
  {
   "cell_type": "code",
   "execution_count": 6,
   "id": "1cb4887d",
   "metadata": {
    "execution": {
     "iopub.execute_input": "2023-01-16T04:57:22.401970Z",
     "iopub.status.busy": "2023-01-16T04:57:22.400803Z",
     "iopub.status.idle": "2023-01-16T04:58:15.871804Z",
     "shell.execute_reply": "2023-01-16T04:58:15.870547Z"
    },
    "papermill": {
     "duration": 53.48745,
     "end_time": "2023-01-16T04:58:15.880172",
     "exception": false,
     "start_time": "2023-01-16T04:57:22.392722",
     "status": "completed"
    },
    "tags": []
   },
   "outputs": [
    {
     "name": "stdout",
     "output_type": "stream",
     "text": [
      "CPU times: user 2min 47s, sys: 1.76 s, total: 2min 49s\n",
      "Wall time: 53.5 s\n"
     ]
    },
    {
     "data": {
      "text/plain": [
       "True"
      ]
     },
     "execution_count": 6,
     "metadata": {},
     "output_type": "execute_result"
    }
   ],
   "source": [
    "%%time\n",
    "\n",
    "from annoy import AnnoyIndex\n",
    "\n",
    "aid2idx = {aid: i for i, aid in enumerate(w2vec.wv.index_to_key)}\n",
    "index = AnnoyIndex(64, 'euclidean')\n",
    "\n",
    "for aid, idx in aid2idx.items():\n",
    "    index.add_item(idx, w2vec.wv.vectors[idx])\n",
    "    \n",
    "index.build(32)"
   ]
  },
  {
   "cell_type": "code",
   "execution_count": 7,
   "id": "f3767956",
   "metadata": {
    "execution": {
     "iopub.execute_input": "2023-01-16T04:58:15.895145Z",
     "iopub.status.busy": "2023-01-16T04:58:15.894746Z",
     "iopub.status.idle": "2023-01-16T04:59:14.509346Z",
     "shell.execute_reply": "2023-01-16T04:59:14.507977Z"
    },
    "papermill": {
     "duration": 58.625394,
     "end_time": "2023-01-16T04:59:14.512005",
     "exception": false,
     "start_time": "2023-01-16T04:58:15.886611",
     "status": "completed"
    },
    "tags": []
   },
   "outputs": [],
   "source": [
    "import pandas as pd\n",
    "import numpy as np\n",
    "\n",
    "from collections import defaultdict\n",
    "import collections\n",
    "\n",
    "session_types = ['clicks', 'carts', 'orders']\n",
    "test_session_AIDs = test.to_pandas().reset_index(drop=True).groupby('session')['aid'].apply(list)\n",
    "test_session_types = test.to_pandas().reset_index(drop=True).groupby('session')['type'].apply(list)"
   ]
  },
  {
   "cell_type": "code",
   "execution_count": 8,
   "id": "9fabc217",
   "metadata": {
    "execution": {
     "iopub.execute_input": "2023-01-16T04:59:14.527218Z",
     "iopub.status.busy": "2023-01-16T04:59:14.526762Z",
     "iopub.status.idle": "2023-01-16T05:05:40.370909Z",
     "shell.execute_reply": "2023-01-16T05:05:40.369776Z"
    },
    "papermill": {
     "duration": 385.855112,
     "end_time": "2023-01-16T05:05:40.373794",
     "exception": false,
     "start_time": "2023-01-16T04:59:14.518682",
     "status": "completed"
    },
    "tags": []
   },
   "outputs": [],
   "source": [
    "labels = []\n",
    "\n",
    "type_weight_multipliers = {0: 1, 1: 6, 2: 3}\n",
    "\n",
    "session_num = len(test_session_AIDs)\n",
    "\n",
    "for AIDs, types in zip(test_session_AIDs[:session_num], test_session_types[:session_num]):\n",
    "    if len(AIDs) >= 20:\n",
    "        # if we have enough aids (over equals 20) we don't need to look for candidates! we just use the old logic\n",
    "        weights=np.logspace(0.1,1,len(AIDs),base=2, endpoint=True)-1\n",
    "        aids_temp=defaultdict(lambda: 0)\n",
    "        for aid,w,t in zip(AIDs,weights,types): \n",
    "            aids_temp[aid]+= w * type_weight_multipliers[t]\n",
    "            \n",
    "        sorted_aids=[k for k, v in sorted(aids_temp.items(), key=lambda item: -item[1])]\n",
    "        labels.append(sorted_aids[:20])\n",
    "    else:\n",
    "        # here we don't have 20 aids to output -- we will use word2vec embeddings to generate candidates!\n",
    "        AIDs = list(dict.fromkeys(AIDs[::-1]))\n",
    "        \n",
    "        # let's grab the up to 3 recent aids\n",
    "        recent_len = max(min(3,len(AIDs)),1)\n",
    "        \n",
    "        # how many aids for each aid\n",
    "        AIDs_num = round((20-len(AIDs))/recent_len) + 2\n",
    "        \n",
    "        # let's look for some neighbors!        \n",
    "        nns_it = []\n",
    "        for it in range(0,recent_len):\n",
    "            nns_it += [w2vec.wv.index_to_key[i] for i in index.get_nns_by_item(aid2idx[AIDs[it]], AIDs_num)[1:]]\n",
    "        \n",
    "        # select repeating and unique neighbors\n",
    "        nns_repeated = [item for item, count in collections.Counter(nns_it).items() if count > 1]\n",
    "        nns_once = [item for item, count in collections.Counter(nns_it).items() if count == 1]\n",
    "\n",
    "        # prepare selection\n",
    "        nns = (nns_repeated+nns_once)[:20]\n",
    "        labels.append((AIDs+nns)[:20])"
   ]
  },
  {
   "cell_type": "code",
   "execution_count": 9,
   "id": "cb63cf18",
   "metadata": {
    "execution": {
     "iopub.execute_input": "2023-01-16T05:05:40.389794Z",
     "iopub.status.busy": "2023-01-16T05:05:40.389031Z",
     "iopub.status.idle": "2023-01-16T05:06:26.019576Z",
     "shell.execute_reply": "2023-01-16T05:06:26.018411Z"
    },
    "papermill": {
     "duration": 45.646404,
     "end_time": "2023-01-16T05:06:26.027322",
     "exception": false,
     "start_time": "2023-01-16T05:05:40.380918",
     "status": "completed"
    },
    "tags": []
   },
   "outputs": [
    {
     "data": {
      "text/plain": [
       "0"
      ]
     },
     "execution_count": 9,
     "metadata": {},
     "output_type": "execute_result"
    }
   ],
   "source": [
    "labels_as_strings = [' '.join([str(l) for l in lls]) for lls in labels]\n",
    "\n",
    "predictions = pd.DataFrame(data={'session_type': test_session_AIDs.index, 'labels': labels_as_strings})\n",
    "\n",
    "prediction_dfs = []\n",
    "\n",
    "for st in session_types:\n",
    "    modified_predictions = predictions.copy()\n",
    "    modified_predictions.session_type = modified_predictions.session_type.astype('str') + f'_{st}'\n",
    "    prediction_dfs.append(modified_predictions)\n",
    "\n",
    "submission = pd.concat(prediction_dfs).reset_index(drop=True)\n",
    "submission.to_csv('submission.csv', index=False)\n",
    "\n",
    "del labels, labels_as_strings, predictions, prediction_dfs\n",
    "gc.collect()"
   ]
  },
  {
   "cell_type": "code",
   "execution_count": 10,
   "id": "5efbc00b",
   "metadata": {
    "execution": {
     "iopub.execute_input": "2023-01-16T05:06:26.042355Z",
     "iopub.status.busy": "2023-01-16T05:06:26.041894Z",
     "iopub.status.idle": "2023-01-16T05:06:26.056482Z",
     "shell.execute_reply": "2023-01-16T05:06:26.055336Z"
    },
    "papermill": {
     "duration": 0.024411,
     "end_time": "2023-01-16T05:06:26.058569",
     "exception": false,
     "start_time": "2023-01-16T05:06:26.034158",
     "status": "completed"
    },
    "tags": []
   },
   "outputs": [
    {
     "data": {
      "text/html": [
       "<div>\n",
       "<style scoped>\n",
       "    .dataframe tbody tr th:only-of-type {\n",
       "        vertical-align: middle;\n",
       "    }\n",
       "\n",
       "    .dataframe tbody tr th {\n",
       "        vertical-align: top;\n",
       "    }\n",
       "\n",
       "    .dataframe thead th {\n",
       "        text-align: right;\n",
       "    }\n",
       "</style>\n",
       "<table border=\"1\" class=\"dataframe\">\n",
       "  <thead>\n",
       "    <tr style=\"text-align: right;\">\n",
       "      <th></th>\n",
       "      <th>session_type</th>\n",
       "      <th>labels</th>\n",
       "    </tr>\n",
       "  </thead>\n",
       "  <tbody>\n",
       "    <tr>\n",
       "      <th>0</th>\n",
       "      <td>12899779_clicks</td>\n",
       "      <td>59625 448688 345122 231004 509607 819821 10658...</td>\n",
       "    </tr>\n",
       "    <tr>\n",
       "      <th>1</th>\n",
       "      <td>12899780_clicks</td>\n",
       "      <td>1142000 736515 973453 582732 1360606 487136 15...</td>\n",
       "    </tr>\n",
       "    <tr>\n",
       "      <th>2</th>\n",
       "      <td>12899781_clicks</td>\n",
       "      <td>918667 199008 194067 57315 141736 1836671 1228...</td>\n",
       "    </tr>\n",
       "    <tr>\n",
       "      <th>3</th>\n",
       "      <td>12899782_clicks</td>\n",
       "      <td>834354 595994 740494 889671 987399 779477 1344...</td>\n",
       "    </tr>\n",
       "    <tr>\n",
       "      <th>4</th>\n",
       "      <td>12899783_clicks</td>\n",
       "      <td>1817895 607638 1754419 1216820 1729553 300127 ...</td>\n",
       "    </tr>\n",
       "  </tbody>\n",
       "</table>\n",
       "</div>"
      ],
      "text/plain": [
       "      session_type                                             labels\n",
       "0  12899779_clicks  59625 448688 345122 231004 509607 819821 10658...\n",
       "1  12899780_clicks  1142000 736515 973453 582732 1360606 487136 15...\n",
       "2  12899781_clicks  918667 199008 194067 57315 141736 1836671 1228...\n",
       "3  12899782_clicks  834354 595994 740494 889671 987399 779477 1344...\n",
       "4  12899783_clicks  1817895 607638 1754419 1216820 1729553 300127 ..."
      ]
     },
     "execution_count": 10,
     "metadata": {},
     "output_type": "execute_result"
    }
   ],
   "source": [
    "submission.head()\n"
   ]
  },
  {
   "cell_type": "markdown",
   "id": "641dfe6b",
   "metadata": {
    "papermill": {
     "duration": 0.006526,
     "end_time": "2023-01-16T05:06:26.072102",
     "exception": false,
     "start_time": "2023-01-16T05:06:26.065576",
     "status": "completed"
    },
    "tags": []
   },
   "source": [
    "# note\n",
    "other sections of code are based on @Word2vec model [training and submission | 0.533]\n"
   ]
  }
 ],
 "metadata": {
  "kernelspec": {
   "display_name": "Python 3",
   "language": "python",
   "name": "python3"
  },
  "language_info": {
   "codemirror_mode": {
    "name": "ipython",
    "version": 3
   },
   "file_extension": ".py",
   "mimetype": "text/x-python",
   "name": "python",
   "nbconvert_exporter": "python",
   "pygments_lexer": "ipython3",
   "version": "3.7.12"
  },
  "papermill": {
   "default_parameters": {},
   "duration": 6439.937789,
   "end_time": "2023-01-16T05:06:30.418001",
   "environment_variables": {},
   "exception": null,
   "input_path": "__notebook__.ipynb",
   "output_path": "__notebook__.ipynb",
   "parameters": {},
   "start_time": "2023-01-16T03:19:10.480212",
   "version": "2.3.4"
  }
 },
 "nbformat": 4,
 "nbformat_minor": 5
}
